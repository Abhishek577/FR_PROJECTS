{
 "cells": [
  {
   "cell_type": "code",
   "execution_count": 1,
   "metadata": {},
   "outputs": [],
   "source": [
    "import pandas as pd\n",
    "import string\n",
    "from collections import Counter as cnt\n",
    "from nltk.tokenize import word_tokenize\n",
    "from nltk.stem import WordNetLemmatizer\n",
    "from sklearn.feature_extraction.text import CountVectorizer \n",
    "from nltk.corpus import stopwords\n",
    "import matplotlib.pyplot as plt"
   ]
  },
  {
   "cell_type": "code",
   "execution_count": 2,
   "metadata": {},
   "outputs": [],
   "source": [
    "#Opening 1st document and converting to lower case\n",
    "\n",
    "document1 = open(r\"C:\\Users\\mishr\\AFRM1.txt\").read()\n",
    "doc1 = [document1.lower()]"
   ]
  },
  {
   "cell_type": "code",
   "execution_count": 3,
   "metadata": {},
   "outputs": [],
   "source": [
    "#Opening 2nd document and converting to lower case\n",
    "\n",
    "document2 = open(r\"C:\\Users\\mishr\\AFRM2.txt\",encoding='utf-8').read()\n",
    "doc2 = [document2.lower()]"
   ]
  },
  {
   "cell_type": "code",
   "execution_count": 4,
   "metadata": {},
   "outputs": [],
   "source": [
    "def bow(d1,d2):\n",
    "    stop = stopwords.words('english')\n",
    "    count=CountVectorizer(stop_words=stop)\n",
    "    count.fit(d1)\n",
    "    x=count.transform(d2)\n",
    "    print(\"BOW :\",count.get_feature_names())\n",
    "    print(\"\\n\\nVOCABULARY:\",count.vocabulary_)\n",
    "    print('\\n\\nTEXT LOCATION:',x.toarray())\n",
    "    return pd.DataFrame(x.toarray(),columns=count.get_feature_names())"
   ]
  },
  {
   "cell_type": "code",
   "execution_count": 5,
   "metadata": {},
   "outputs": [
    {
     "name": "stdout",
     "output_type": "stream",
     "text": [
      "BOW : ['acquired', 'admitting', 'agreed', 'alone', 'already', 'always', 'among', 'animal', 'animals', 'appearance', 'approaching', 'arrive', 'asked', 'asleep', 'atom', 'attention', 'attentively', 'back', 'barn', 'beam', 'beast', 'beauty', 'bed', 'bedroom', 'began', 'behind', 'benevolent', 'benjamin', 'beyond', 'big', 'bluebell', 'boar', 'bodies', 'born', 'boxer', 'breath', 'brood', 'buildings', 'called', 'came', 'capable', 'care', 'cart', 'cat', 'character', 'cheeping', 'chew', 'chewing', 'cleared', 'clover', 'come', 'comfortable', 'communicate', 'comrades', 'concealed', 'contentedly', 'cows', 'cruelty', 'cud', 'cut', 'cynical', 'daintily', 'day', 'devoted', 'die', 'different', 'dogs', 'donkey', 'door', 'draw', 'dream', 'drew', 'ducklings', 'duty', 'earth', 'eighteen', 'else', 'end', 'england', 'enormous', 'ensconced', 'everyone', 'except', 'exhibited', 'face', 'fact', 'farm', 'fashions', 'feebly', 'feel', 'fell', 'figure', 'filed', 'finally', 'find', 'first', 'flies', 'flirting', 'fluttered', 'fluttering', 'foal', 'food', 'foolish', 'forced', 'foreleg', 'fourth', 'free', 'front', 'gave', 'given', 'goat', 'god', 'gone', 'got', 'grazing', 'great', 'grown', 'hairy', 'hands', 'happiness', 'hear', 'heard', 'hens', 'hideous', 'high', 'highly', 'hoofs', 'hoping', 'horses', 'hourâ', 'hung', 'immediately', 'inside', 'instance', 'instant', 'intelligence', 'jessie', 'jones', 'jonesâ', 'keep', 'knows', 'laborious', 'lain', 'lantern', 'last', 'lately', 'later', 'laugh', 'laughed', 'lay', 'leisure', 'lest', 'let', 'life', 'light', 'listening', 'lives', 'living', 'long', 'longer', 'looked', 'looking', 'lose', 'lost', 'lump', 'made', 'majestic', 'major', 'majorâ', 'make', 'mane', 'many', 'mare', 'may', 'meaning', 'meet', 'middle', 'mincing', 'miserable', 'misery', 'mollie', 'moment', 'months', 'moses', 'mother', 'motherly', 'mr', 'much', 'muriel', 'name', 'nature', 'near', 'nearly', 'nestled', 'never', 'nevertheless', 'night', 'nose', 'nothing', 'old', 'oldest', 'one', 'openly', 'orchard', 'order', 'ordinary', 'paddock', 'pass', 'perch', 'perched', 'pig', 'pigeons', 'pigs', 'pincher', 'place', 'plain', 'plaited', 'platform', 'powers', 'present', 'pretty', 'previous', 'prize', 'promptly', 'purred', 'put', 'quite', 'rafters', 'raised', 'rate', 'rather', 'raven', 'ready', 'red', 'regarded', 'remarkâ', 'respected', 'ribbons', 'round', 'safely', 'saw', 'say', 'saying', 'seldom', 'setting', 'settled', 'shall', 'sheep', 'short', 'side', 'sills', 'slaughtered', 'slavery', 'sleep', 'slept', 'slowly', 'small', 'something', 'somewhat', 'soon', 'sooner', 'sort', 'speak', 'speaking', 'speech', 'spent', 'spite', 'squeezed', 'stall', 'steadiness', 'still', 'stirring', 'stout', 'strange', 'straw', 'strength', 'stripe', 'strong', 'stupid', 'sugar', 'sundays', 'tail', 'talked', 'tame', 'tempered', 'think', 'though', 'thought', 'three', 'throat', 'throughout', 'time', 'together', 'took', 'trap', 'tremendous', 'trodden', 'truth', 'tushes', 'twelve', 'two', 'understand', 'universally', 'us', 'usefulness', 'usual', 'usually', 'vast', 'waiting', 'walking', 'wall', 'wandering', 'warmest', 'way', 'well', 'went', 'white', 'willingdon', 'window', 'wisdom', 'wise', 'wish', 'wished', 'without', 'word', 'work', 'worst', 'would', 'year', 'years', 'œcomrades', 'œnow']\n",
      "\n",
      "\n",
      "VOCABULARY: {'soon': 259, 'light': 154, 'bedroom': 23, 'went': 315, 'stirring': 271, 'fluttering': 99, 'farm': 86, 'buildings': 37, 'word': 324, 'gone': 112, 'round': 238, 'day': 62, 'old': 199, 'major': 167, 'prize': 222, 'middle': 176, 'white': 316, 'boar': 31, 'strange': 273, 'dream': 70, 'previous': 221, 'night': 196, 'wished': 322, 'communicate': 52, 'animals': 8, 'agreed': 2, 'meet': 175, 'big': 29, 'barn': 18, 'mr': 186, 'jones': 137, 'safely': 239, 'way': 313, 'always': 5, 'called': 38, 'though': 286, 'name': 189, 'exhibited': 83, 'willingdon': 317, 'beauty': 21, 'highly': 125, 'regarded': 234, 'everyone': 81, 'quite': 226, 'ready': 232, 'lose': 162, 'hourâ': 129, 'sleep': 253, 'order': 204, 'hear': 120, 'say': 241, 'one': 201, 'end': 77, 'sort': 261, 'raised': 228, 'platform': 217, 'already': 4, 'ensconced': 80, 'bed': 22, 'straw': 274, 'lantern': 143, 'hung': 130, 'beam': 19, 'twelve': 299, 'years': 329, 'lately': 145, 'grown': 116, 'rather': 230, 'stout': 272, 'still': 270, 'majestic': 166, 'looking': 161, 'pig': 210, 'wise': 320, 'benevolent': 26, 'appearance': 9, 'spite': 266, 'fact': 85, 'tushes': 298, 'never': 194, 'cut': 59, 'long': 158, 'began': 24, 'arrive': 11, 'make': 169, 'comfortable': 51, 'different': 65, 'fashions': 87, 'first': 95, 'came': 39, 'three': 288, 'dogs': 66, 'bluebell': 30, 'jessie': 136, 'pincher': 213, 'pigs': 212, 'settled': 245, 'immediately': 131, 'front': 107, 'hens': 122, 'perched': 209, 'window': 318, 'sills': 250, 'pigeons': 211, 'fluttered': 98, 'rafters': 227, 'sheep': 247, 'cows': 56, 'lay': 149, 'behind': 25, 'chew': 46, 'cud': 58, 'two': 300, 'cart': 42, 'horses': 128, 'boxer': 34, 'clover': 49, 'together': 292, 'walking': 309, 'slowly': 255, 'setting': 244, 'vast': 307, 'hairy': 117, 'hoofs': 126, 'great': 115, 'care': 41, 'lest': 151, 'small': 256, 'animal': 7, 'concealed': 54, 'motherly': 185, 'mare': 172, 'approaching': 10, 'life': 153, 'got': 113, 'figure': 91, 'back': 17, 'fourth': 105, 'foal': 100, 'enormous': 79, 'beast': 20, 'nearly': 192, 'eighteen': 75, 'hands': 118, 'high': 124, 'strong': 277, 'ordinary': 205, 'put': 225, 'stripe': 276, 'nose': 197, 'gave': 108, 'somewhat': 258, 'stupid': 278, 'rate': 229, 'intelligence': 135, 'universally': 302, 'respected': 236, 'steadiness': 269, 'character': 44, 'tremendous': 295, 'powers': 218, 'work': 325, 'muriel': 188, 'goat': 110, 'benjamin': 27, 'donkey': 67, 'oldest': 200, 'worst': 326, 'tempered': 284, 'seldom': 243, 'talked': 282, 'usually': 306, 'cynical': 60, 'remarkâ': 235, 'instance': 133, 'would': 327, 'god': 111, 'given': 109, 'tail': 281, 'keep': 139, 'flies': 96, 'sooner': 260, 'alone': 3, 'among': 6, 'laughed': 148, 'asked': 12, 'saw': 240, 'nothing': 198, 'laugh': 147, 'nevertheless': 195, 'without': 323, 'openly': 202, 'admitting': 1, 'devoted': 63, 'spent': 265, 'sundays': 280, 'paddock': 206, 'beyond': 28, 'orchard': 203, 'grazing': 114, 'side': 249, 'speaking': 263, 'lain': 142, 'brood': 36, 'ducklings': 72, 'lost': 163, 'mother': 184, 'filed': 92, 'cheeping': 45, 'feebly': 88, 'wandering': 311, 'find': 94, 'place': 214, 'trodden': 296, 'made': 165, 'wall': 310, 'foreleg': 104, 'nestled': 193, 'inside': 132, 'promptly': 223, 'fell': 90, 'asleep': 13, 'last': 144, 'moment': 181, 'mollie': 180, 'foolish': 102, 'pretty': 220, 'drew': 71, 'jonesâ': 138, 'trap': 294, 'mincing': 177, 'daintily': 61, 'chewing': 47, 'lump': 164, 'sugar': 279, 'took': 293, 'near': 191, 'flirting': 97, 'mane': 170, 'hoping': 127, 'draw': 69, 'attention': 15, 'red': 233, 'ribbons': 237, 'plaited': 216, 'cat': 43, 'looked': 160, 'usual': 305, 'warmest': 312, 'finally': 93, 'squeezed': 267, 'purred': 224, 'contentedly': 55, 'throughout': 290, 'majorâ': 168, 'speech': 264, 'listening': 155, 'saying': 242, 'present': 219, 'except': 82, 'moses': 183, 'tame': 283, 'raven': 231, 'slept': 254, 'perch': 208, 'door': 68, 'waiting': 308, 'attentively': 16, 'cleared': 48, 'throat': 289, 'œcomrades': 330, 'heard': 121, 'come': 50, 'later': 146, 'something': 257, 'else': 76, 'think': 285, 'comrades': 53, 'shall': 246, 'many': 171, 'months': 182, 'longer': 159, 'die': 64, 'feel': 89, 'duty': 73, 'pass': 207, 'wisdom': 319, 'acquired': 0, 'much': 187, 'time': 291, 'thought': 287, 'stall': 268, 'may': 173, 'understand': 301, 'nature': 190, 'earth': 74, 'well': 314, 'living': 157, 'wish': 321, 'speak': 262, 'œnow': 331, 'let': 152, 'us': 303, 'face': 84, 'lives': 156, 'miserable': 178, 'laborious': 141, 'short': 248, 'born': 33, 'food': 101, 'breath': 35, 'bodies': 32, 'capable': 40, 'forced': 103, 'atom': 14, 'strength': 275, 'instant': 134, 'usefulness': 304, 'slaughtered': 251, 'hideous': 123, 'cruelty': 57, 'england': 78, 'knows': 140, 'meaning': 174, 'happiness': 119, 'leisure': 150, 'year': 328, 'free': 106, 'misery': 179, 'slavery': 252, 'plain': 215, 'truth': 297}\n",
      "\n",
      "\n",
      "TEXT LOCATION: [[ 0  0  2  0  0  1  2  3 22  0  0  0  4  1  0  0  0  7  3  0  0  0  0  2\n",
      "   1  2  0  0  1  1  0  1  0  0  3  0  0  4  2  2  1  2  2  0  1  0  0  0\n",
      "   0  2  1  0  0  1  0  0  2  0  0  0  0  0  1  1  0  0  0  0  3  0  0  0\n",
      "   0  2  1  0  0  4  2  0  0  0  0  0  1  0 16  0  0  0  1  0  1  0  0  4\n",
      "   1  0  0  0  0  0  1  0  0  0  0  0  3  1  0  0  2  2  0  4  0  0  1  0\n",
      "   0  1  0  0  0  0  0  0  2  0  0  1  1  0  0  0  0 18  0  1  0  0  0  0\n",
      "   2  0  2  0  0  0  0  0  0  1  1  0  0  0  1  1  1  2  0  0  1  2  0  4\n",
      "   0  2  1  0  1  0  0  0  0  0  0  0  4  3  3  6  0  0 12  5  0  2  0  0\n",
      "   0  0  3  0  1  1  2  3  0  2  0  2  0  0  0  0  1  0  3  0 10  0  3  0\n",
      "   0  0  0  0  0  0  0  0  0  1  2  0  0  0  1  1  1  1  0  0  0  5  6  0\n",
      "   3  0  0  0  0  1  1  0  0  2  0  0  1  2  2  0  2  0  0  0  0  0  1  0\n",
      "   2  0  0  0  0  0  3  0  0  0  1  0  0  0  0  4  0  1  1  1  0  0  3  2\n",
      "   5  0  0  1  2  2  0  0  0  0  0  0  6  1  0  2  0  1  1  0  0  1  3  0\n",
      "   0  5  1  5  4  1  1  0  0  0  0  1  0  4  0  5  1  1  0  0]]\n"
     ]
    },
    {
     "data": {
      "text/html": [
       "<div>\n",
       "<style scoped>\n",
       "    .dataframe tbody tr th:only-of-type {\n",
       "        vertical-align: middle;\n",
       "    }\n",
       "\n",
       "    .dataframe tbody tr th {\n",
       "        vertical-align: top;\n",
       "    }\n",
       "\n",
       "    .dataframe thead th {\n",
       "        text-align: right;\n",
       "    }\n",
       "</style>\n",
       "<table border=\"1\" class=\"dataframe\">\n",
       "  <thead>\n",
       "    <tr style=\"text-align: right;\">\n",
       "      <th></th>\n",
       "      <th>acquired</th>\n",
       "      <th>admitting</th>\n",
       "      <th>agreed</th>\n",
       "      <th>alone</th>\n",
       "      <th>already</th>\n",
       "      <th>always</th>\n",
       "      <th>among</th>\n",
       "      <th>animal</th>\n",
       "      <th>animals</th>\n",
       "      <th>appearance</th>\n",
       "      <th>...</th>\n",
       "      <th>wished</th>\n",
       "      <th>without</th>\n",
       "      <th>word</th>\n",
       "      <th>work</th>\n",
       "      <th>worst</th>\n",
       "      <th>would</th>\n",
       "      <th>year</th>\n",
       "      <th>years</th>\n",
       "      <th>œcomrades</th>\n",
       "      <th>œnow</th>\n",
       "    </tr>\n",
       "  </thead>\n",
       "  <tbody>\n",
       "    <tr>\n",
       "      <th>0</th>\n",
       "      <td>0</td>\n",
       "      <td>0</td>\n",
       "      <td>2</td>\n",
       "      <td>0</td>\n",
       "      <td>0</td>\n",
       "      <td>1</td>\n",
       "      <td>2</td>\n",
       "      <td>3</td>\n",
       "      <td>22</td>\n",
       "      <td>0</td>\n",
       "      <td>...</td>\n",
       "      <td>0</td>\n",
       "      <td>1</td>\n",
       "      <td>0</td>\n",
       "      <td>4</td>\n",
       "      <td>0</td>\n",
       "      <td>5</td>\n",
       "      <td>1</td>\n",
       "      <td>1</td>\n",
       "      <td>0</td>\n",
       "      <td>0</td>\n",
       "    </tr>\n",
       "  </tbody>\n",
       "</table>\n",
       "<p>1 rows × 332 columns</p>\n",
       "</div>"
      ],
      "text/plain": [
       "   acquired  admitting  agreed  alone  already  always  among  animal  \\\n",
       "0         0          0       2      0        0       1      2       3   \n",
       "\n",
       "   animals  appearance  ...  wished  without  word  work  worst  would  year  \\\n",
       "0       22           0  ...       0        1     0     4      0      5     1   \n",
       "\n",
       "   years  œcomrades  œnow  \n",
       "0      1          0     0  \n",
       "\n",
       "[1 rows x 332 columns]"
      ]
     },
     "execution_count": 5,
     "metadata": {},
     "output_type": "execute_result"
    }
   ],
   "source": [
    "bow(d1=doc1,d2=doc2)"
   ]
  },
  {
   "cell_type": "code",
   "execution_count": null,
   "metadata": {},
   "outputs": [],
   "source": []
  }
 ],
 "metadata": {
  "kernelspec": {
   "display_name": "Python 3",
   "language": "python",
   "name": "python3"
  },
  "language_info": {
   "codemirror_mode": {
    "name": "ipython",
    "version": 3
   },
   "file_extension": ".py",
   "mimetype": "text/x-python",
   "name": "python",
   "nbconvert_exporter": "python",
   "pygments_lexer": "ipython3",
   "version": "3.8.3"
  }
 },
 "nbformat": 4,
 "nbformat_minor": 4
}
