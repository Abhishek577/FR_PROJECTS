{
 "cells": [
  {
   "cell_type": "code",
   "execution_count": 1,
   "metadata": {},
   "outputs": [],
   "source": [
    "import cv2,random,numpy as np\n",
    "import os\n",
    "from os import listdir,makedirs\n",
    "from os.path import isfile,join"
   ]
  },
  {
   "cell_type": "markdown",
   "metadata": {},
   "source": [
    "**AUGUMENTING SCRAPPED SAREE IMAGES**"
   ]
  },
  {
   "cell_type": "code",
   "execution_count": 2,
   "metadata": {},
   "outputs": [],
   "source": [
    "source = r'C:\\Users\\mishr\\CNN\\MODEL\\train\\saree' # Source Images Folder\n",
    "destination =r'C:\\Users\\mishr\\CNN\\AUGUMENTED\\TRAIN\\SAREE'  #Folder to save augmented images\n",
    "try:\n",
    "    makedirs(destination)\n",
    "except:\n",
    "    print (\"A Folder With Such Name Already Exist, Using It\")"
   ]
  },
  {
   "cell_type": "code",
   "execution_count": 3,
   "metadata": {},
   "outputs": [
    {
     "data": {
      "text/plain": [
       "['imgsaree_102.jpeg',\n",
       " 'imgsaree_103.jpeg',\n",
       " 'imgsaree_104.jpeg',\n",
       " 'imgsaree_105.jpeg',\n",
       " 'imgsaree_11.jpeg',\n",
       " 'imgsaree_111.jpeg',\n",
       " 'imgsaree_12.jpeg',\n",
       " 'imgsaree_135.jpeg',\n",
       " 'imgsaree_141.jpeg',\n",
       " 'imgsaree_142.jpeg',\n",
       " 'imgsaree_144.jpeg',\n",
       " 'imgsaree_153.jpeg',\n",
       " 'imgsaree_164.jpeg',\n",
       " 'imgsaree_194.jpeg',\n",
       " 'imgsaree_203.jpeg',\n",
       " 'imgsaree_21.jpeg',\n",
       " 'imgsaree_211.jpeg',\n",
       " 'imgsaree_215.jpeg',\n",
       " 'imgsaree_231.jpeg',\n",
       " 'imgsaree_234.jpeg',\n",
       " 'imgsaree_24.jpeg',\n",
       " 'imgsaree_242.jpeg',\n",
       " 'imgsaree_25.jpeg',\n",
       " 'imgsaree_252.jpeg',\n",
       " 'imgsaree_253.jpeg',\n",
       " 'imgsaree_264.jpeg',\n",
       " 'imgsaree_274.jpeg',\n",
       " 'imgsaree_283.jpeg',\n",
       " 'imgsaree_291.jpeg',\n",
       " 'imgsaree_294.jpeg',\n",
       " 'imgsaree_295.jpeg',\n",
       " 'imgsaree_302.jpeg',\n",
       " 'imgsaree_305.jpeg',\n",
       " 'imgsaree_31.jpeg',\n",
       " 'imgsaree_312.jpeg',\n",
       " 'imgsaree_314.jpeg',\n",
       " 'imgsaree_315.jpeg',\n",
       " 'imgsaree_324.jpeg',\n",
       " 'imgsaree_325.jpeg',\n",
       " 'imgsaree_344.jpeg',\n",
       " 'imgsaree_345.jpeg',\n",
       " 'imgsaree_351.jpeg',\n",
       " 'imgsaree_363.jpeg',\n",
       " 'imgsaree_365.jpeg',\n",
       " 'imgsaree_383.jpeg',\n",
       " 'imgsaree_385.jpeg',\n",
       " 'imgsaree_395.jpeg',\n",
       " 'imgsaree_401.jpeg',\n",
       " 'imgsaree_402.jpeg',\n",
       " 'imgsaree_411.jpeg',\n",
       " 'imgsaree_414.jpeg',\n",
       " 'imgsaree_415.jpeg',\n",
       " 'imgsaree_425.jpeg',\n",
       " 'imgsaree_43.jpeg',\n",
       " 'imgsaree_431.jpeg',\n",
       " 'imgsaree_434.jpeg',\n",
       " 'imgsaree_44.jpeg',\n",
       " 'imgsaree_443.jpeg',\n",
       " 'imgsaree_445.jpeg',\n",
       " 'imgsaree_453.jpeg',\n",
       " 'imgsaree_461.jpeg',\n",
       " 'imgsaree_464.jpeg',\n",
       " 'imgsaree_472.jpeg',\n",
       " 'imgsaree_483.jpeg',\n",
       " 'imgsaree_494.jpeg',\n",
       " 'imgsaree_501.jpeg',\n",
       " 'imgsaree_512.jpeg',\n",
       " 'imgsaree_52.jpeg',\n",
       " 'imgsaree_523.jpeg',\n",
       " 'imgsaree_53.jpeg',\n",
       " 'imgsaree_541.jpeg',\n",
       " 'imgsaree_551.jpeg',\n",
       " 'imgsaree_561.jpeg',\n",
       " 'imgsaree_573.jpeg',\n",
       " 'imgsaree_592.jpeg',\n",
       " 'imgsaree_63.jpeg',\n",
       " 'imgsaree_82.jpeg',\n",
       " 'imgsaree_84.jpeg',\n",
       " 'imgsaree_85.jpeg',\n",
       " 'imgsaree_91.jpeg']"
      ]
     },
     "execution_count": 3,
     "metadata": {},
     "output_type": "execute_result"
    }
   ],
   "source": [
    "imagefiles = [i for i in listdir(source) if isfile(join(source,i))] \n",
    "imagefiles"
   ]
  },
  {
   "cell_type": "code",
   "execution_count": 4,
   "metadata": {},
   "outputs": [
    {
     "data": {
      "text/plain": [
       "80"
      ]
     },
     "execution_count": 4,
     "metadata": {},
     "output_type": "execute_result"
    }
   ],
   "source": [
    "len(imagefiles)"
   ]
  },
  {
   "cell_type": "code",
   "execution_count": 5,
   "metadata": {},
   "outputs": [],
   "source": [
    "#converting all coloured image into grey scale image & resize them in 130*130 format\n",
    "for image in imagefiles:\n",
    "    try:\n",
    "        img = cv2.imread(os.path.join(source,image))\n",
    "        gray = cv2.cvtColor(img,cv2.COLOR_BGR2GRAY)\n",
    "        resize=cv2.resize(gray,(130,130))\n",
    "        dest = join(destination,image)\n",
    "        cv2.imwrite(dest,resize)\n",
    "       \n",
    "    except:\n",
    "        print (\"{} is not converted\".format(image))\n"
   ]
  },
  {
   "cell_type": "code",
   "execution_count": 6,
   "metadata": {},
   "outputs": [],
   "source": [
    "#creating few functions for augumentation\n",
    "\n",
    "#1.Rotations\n",
    "def rotate(image):\n",
    "    h,w = image.shape[:2]\n",
    "    degree=random.uniform(-30,30)\n",
    "    scale=random.uniform(0.7,1.2)\n",
    "    mat = cv2.getRotationMatrix2D((h/2,w/2), degree, scale)\n",
    "    return cv2.warpAffine(image,mat,(w,h))\n",
    "\n",
    "#2.Blur_Average\n",
    "def blur(image):\n",
    "    return cv2.blur(image,(3,3))\n",
    "    \n",
    "#3.Contrast Bumping\n",
    "def contrst(image):\n",
    "    mat=np.ones(image.shape,dtype=\"uint8\")*59\n",
    "    reduce=cv2.subtract(image,mat)\n",
    "    return reduce\n",
    "\n",
    "#4.Brightness Bumping\n",
    "def brightness(image):\n",
    "    mat=np.ones(image.shape,dtype=\"uint8\")*72\n",
    "    increase=cv2.add(image,mat)\n",
    "    return increase\n",
    "\n",
    "#5. Sharpening\n",
    "def sharpness(image):\n",
    "    k=np.array([[-1,-1,-1],[-1,-1,10],[-1,-1,-1]])\n",
    "    srp=cv2.filter2D(image,-1,k)\n",
    "    return srp\n",
    "\n",
    "#6.Sobel_X Edge Detection\n",
    "\n",
    "def sobel(image):\n",
    "    sobel_x=cv2.Sobel(image,cv2.CV_64F,1,0,ksize=3)\n",
    "    return sobel_x\n",
    "\n",
    "#7.Flipping_Horizontal\n",
    "def Hflip(image):\n",
    "    flip=cv2.flip(image,1)\n",
    "    return flip\n",
    "\n",
    "#8.Translation\n",
    "def translation(image):\n",
    "    h,w= image.shape[:2]\n",
    "    x=h//5\n",
    "    y=w//5\n",
    "    mat = np.float32([[1, 0, x], [0, 1, y]])\n",
    "    image = cv2.warpAffine(image, mat, (w,h))\n",
    "    return image"
   ]
  },
  {
   "cell_type": "code",
   "execution_count": 7,
   "metadata": {},
   "outputs": [],
   "source": [
    "#creating a dictionary containing the functions generated above\n",
    "transformation_techs={'rotate':rotate,\"blur\":blur,\"contrast\":contrst,\"bright\":brightness,\n",
    "                      \"sharp\":sharpness,\"sob_x\":sobel,\"flip\":Hflip,\"trans\":translation}"
   ]
  },
  {
   "cell_type": "code",
   "execution_count": 8,
   "metadata": {},
   "outputs": [],
   "source": [
    "#CREATING A LIST OF FILE PATH OF OUR IMAGES FOR AUGUMENTATION\n",
    "\n",
    "images = [join(destination, x) for x in listdir(destination) if isfile(join(destination,x))]\n",
    "no_required=500\n",
    "no_generated_img=0\n",
    "while no_generated_img<no_required:\n",
    "    path=random.choice(images)\n",
    "    im2_transformed=cv2.imread(path)\n",
    "    no_of_transformation_selected = random.randint(1, len(transformation_techs))\n",
    "    \n",
    "    num_transformation_done = 0\n",
    "    transformation= None\n",
    "    while num_transformation_done<=no_of_transformation_selected-1:\n",
    "        function = random.choice(list(transformation_techs))\n",
    "        transformation=transformation_techs[function](im2_transformed)\n",
    "        num_transformation_done=num_transformation_done+1\n",
    "#saving the image generated\n",
    "        augmented_file_path = '{}/augmented_image_{}.jpg'.format(destination,no_generated_img)\n",
    "        cv2.imwrite(augmented_file_path, transformation)\n",
    "    no_generated_img +=1"
   ]
  },
  {
   "cell_type": "markdown",
   "metadata": {},
   "source": [
    "**AUGUMENTING SCRAPPED IMAGES OF SHIRT**"
   ]
  },
  {
   "cell_type": "code",
   "execution_count": 9,
   "metadata": {},
   "outputs": [
    {
     "name": "stdout",
     "output_type": "stream",
     "text": [
      "DIRECTORY CREATED\n"
     ]
    }
   ],
   "source": [
    "source = r'C:\\Users\\mishr\\CNN\\MODEL\\train\\shirt' # Source Images Folder\n",
    "destination =r'C:\\Users\\mishr\\CNN\\AUGUMENTED\\TRAIN\\SHIRT'  #Folder to save augmented images\n",
    "try:\n",
    "    makedirs(destination)\n",
    "    print(\"directory created\".upper())\n",
    "except:\n",
    "    print (\"A Folder With Such Name Already Exist, Using It\")"
   ]
  },
  {
   "cell_type": "code",
   "execution_count": 10,
   "metadata": {
    "scrolled": true
   },
   "outputs": [
    {
     "data": {
      "text/plain": [
       "['imgshirt_12.jpeg',\n",
       " 'imgshirt_124.jpeg',\n",
       " 'imgshirt_14.jpeg',\n",
       " 'imgshirt_145.jpeg',\n",
       " 'imgshirt_15.jpeg',\n",
       " 'imgshirt_153.jpeg',\n",
       " 'imgshirt_171.jpeg',\n",
       " 'imgshirt_172.jpeg',\n",
       " 'imgshirt_182.jpeg',\n",
       " 'imgshirt_183.jpeg',\n",
       " 'imgshirt_192.jpeg',\n",
       " 'imgshirt_195.jpeg',\n",
       " 'imgshirt_211.jpeg',\n",
       " 'imgshirt_213.jpeg',\n",
       " 'imgshirt_214.jpeg',\n",
       " 'imgshirt_215.jpeg',\n",
       " 'imgshirt_221.jpeg',\n",
       " 'imgshirt_223.jpeg',\n",
       " 'imgshirt_225.jpeg',\n",
       " 'imgshirt_232.jpeg',\n",
       " 'imgshirt_235.jpeg',\n",
       " 'imgshirt_241.jpeg',\n",
       " 'imgshirt_242.jpeg',\n",
       " 'imgshirt_243.jpeg',\n",
       " 'imgshirt_244.jpeg',\n",
       " 'imgshirt_245.jpeg',\n",
       " 'imgshirt_251.jpeg',\n",
       " 'imgshirt_252.jpeg',\n",
       " 'imgshirt_253.jpeg',\n",
       " 'imgshirt_273.jpeg',\n",
       " 'imgshirt_285.jpeg',\n",
       " 'imgshirt_295.jpeg',\n",
       " 'imgshirt_305.jpeg',\n",
       " 'imgshirt_31.jpeg',\n",
       " 'imgshirt_322.jpeg',\n",
       " 'imgshirt_324.jpeg',\n",
       " 'imgshirt_33.jpeg',\n",
       " 'imgshirt_331.jpeg',\n",
       " 'imgshirt_334.jpeg',\n",
       " 'imgshirt_341.jpeg',\n",
       " 'imgshirt_354.jpeg',\n",
       " 'imgshirt_373.jpeg',\n",
       " 'imgshirt_381.jpeg',\n",
       " 'imgshirt_383.jpeg',\n",
       " 'imgshirt_394.jpeg',\n",
       " 'imgshirt_401.jpeg',\n",
       " 'imgshirt_402.jpeg',\n",
       " 'imgshirt_411.jpeg',\n",
       " 'imgshirt_414.jpeg',\n",
       " 'imgshirt_424.jpeg',\n",
       " 'imgshirt_432.jpeg',\n",
       " 'imgshirt_445.jpeg',\n",
       " 'imgshirt_45.jpeg',\n",
       " 'imgshirt_452.jpeg',\n",
       " 'imgshirt_453.jpeg',\n",
       " 'imgshirt_462.jpeg',\n",
       " 'imgshirt_482.jpeg',\n",
       " 'imgshirt_483.jpeg',\n",
       " 'imgshirt_491.jpeg',\n",
       " 'imgshirt_493.jpeg',\n",
       " 'imgshirt_511.jpeg',\n",
       " 'imgshirt_52.jpeg',\n",
       " 'imgshirt_522.jpeg',\n",
       " 'imgshirt_523.jpeg',\n",
       " 'imgshirt_53.jpeg',\n",
       " 'imgshirt_531.jpeg',\n",
       " 'imgshirt_534.jpeg',\n",
       " 'imgshirt_535.jpeg',\n",
       " 'imgshirt_542.jpeg',\n",
       " 'imgshirt_563.jpeg',\n",
       " 'imgshirt_574.jpeg',\n",
       " 'imgshirt_575.jpeg',\n",
       " 'imgshirt_581.jpeg',\n",
       " 'imgshirt_591.jpeg',\n",
       " 'imgshirt_592.jpeg',\n",
       " 'imgshirt_593.jpeg',\n",
       " 'imgshirt_594.jpeg',\n",
       " 'imgshirt_595.jpeg',\n",
       " 'imgshirt_603.jpeg',\n",
       " 'imgshirt_61.jpeg']"
      ]
     },
     "execution_count": 10,
     "metadata": {},
     "output_type": "execute_result"
    }
   ],
   "source": [
    "imagefiles = [i for i in listdir(source) if isfile(join(source,i))] \n",
    "imagefiles"
   ]
  },
  {
   "cell_type": "code",
   "execution_count": 11,
   "metadata": {},
   "outputs": [
    {
     "name": "stdout",
     "output_type": "stream",
     "text": [
      "Number of file extracted into the list from the source path= 80\n"
     ]
    }
   ],
   "source": [
    "print(\"Number of file extracted into the list from the source path=\",len(imagefiles))"
   ]
  },
  {
   "cell_type": "code",
   "execution_count": 12,
   "metadata": {},
   "outputs": [],
   "source": [
    "#converting all coloured image into grey scale image\n",
    "for image in imagefiles:\n",
    "    try:\n",
    "        img = cv2.imread(os.path.join(source,image))\n",
    "        gray = cv2.cvtColor(img,cv2.COLOR_BGR2GRAY)\n",
    "        resize=cv2.resize(gray,(130,130))\n",
    "        dest = join(destination,image)\n",
    "        cv2.imwrite(dest,resize)\n",
    "    except:\n",
    "        print (\"{} is not converted\".format(image))\n"
   ]
  },
  {
   "cell_type": "code",
   "execution_count": 13,
   "metadata": {},
   "outputs": [],
   "source": [
    "#CREATING A LIST OF FILE PATH OF OUR IMAGES FOR AUGUMENTATION\n",
    "\n",
    "images = [join(destination, x) for x in listdir(destination) if isfile(join(destination,x))]\n",
    "no_required=500\n",
    "no_generated_img=0\n",
    "while no_generated_img<no_required:\n",
    "    path=random.choice(images)\n",
    "    im2_transformed=cv2.imread(path)\n",
    "    no_of_transformation_selected = random.randint(1, len(transformation_techs))\n",
    "    \n",
    "    num_transformation_done = 0\n",
    "    transformation= None\n",
    "    while num_transformation_done<=no_of_transformation_selected-1:\n",
    "        function = random.choice(list(transformation_techs))\n",
    "        transformation=transformation_techs[function](im2_transformed)\n",
    "        num_transformation_done=num_transformation_done+1\n",
    "#saving the image generated\n",
    "        augmented_file_path = '{}/augmented_image_{}.jpg'.format(destination,no_generated_img)\n",
    "        cv2.imwrite(augmented_file_path, transformation)\n",
    "    no_generated_img +=1\n",
    "\n"
   ]
  },
  {
   "cell_type": "markdown",
   "metadata": {},
   "source": [
    "**AUGUMENTING SCRAPPED IMAGES OF TSHIRT**"
   ]
  },
  {
   "cell_type": "code",
   "execution_count": 14,
   "metadata": {},
   "outputs": [
    {
     "name": "stdout",
     "output_type": "stream",
     "text": [
      "DIRECTORY CREATED\n"
     ]
    }
   ],
   "source": [
    "source = r'C:\\Users\\mishr\\CNN\\MODEL\\train\\tshirts' # Source Images Folder\n",
    "destination =r'C:\\Users\\mishr\\CNN\\AUGUMENTED\\TRAIN\\TSHIRT'  #Folder to save augmented images\n",
    "try:\n",
    "    makedirs(destination)\n",
    "    print(\"directory created\".upper())\n",
    "except:\n",
    "    print (\"A Folder With Such Name Already Exist, Using It\")"
   ]
  },
  {
   "cell_type": "code",
   "execution_count": 15,
   "metadata": {
    "scrolled": true
   },
   "outputs": [
    {
     "data": {
      "text/plain": [
       "['imgtshirts_11.jpeg',\n",
       " 'imgtshirts_112.jpeg',\n",
       " 'imgtshirts_115.jpeg',\n",
       " 'imgtshirts_121.jpeg',\n",
       " 'imgtshirts_122.jpeg',\n",
       " 'imgtshirts_145.jpeg',\n",
       " 'imgtshirts_151.jpeg',\n",
       " 'imgtshirts_152.jpeg',\n",
       " 'imgtshirts_155.jpeg',\n",
       " 'imgtshirts_156.jpeg',\n",
       " 'imgtshirts_164.jpeg',\n",
       " 'imgtshirts_166.jpeg',\n",
       " 'imgtshirts_171.jpeg',\n",
       " 'imgtshirts_173.jpeg',\n",
       " 'imgtshirts_175.jpeg',\n",
       " 'imgtshirts_184.jpeg',\n",
       " 'imgtshirts_185.jpeg',\n",
       " 'imgtshirts_194.jpeg',\n",
       " 'imgtshirts_203.jpeg',\n",
       " 'imgtshirts_205.jpeg',\n",
       " 'imgtshirts_222.jpeg',\n",
       " 'imgtshirts_223.jpeg',\n",
       " 'imgtshirts_225.jpeg',\n",
       " 'imgtshirts_236.jpeg',\n",
       " 'imgtshirts_241.jpeg',\n",
       " 'imgtshirts_243.jpeg',\n",
       " 'imgtshirts_246.jpeg',\n",
       " 'imgtshirts_251.jpeg',\n",
       " 'imgtshirts_263.jpeg',\n",
       " 'imgtshirts_264.jpeg',\n",
       " 'imgtshirts_271.jpeg',\n",
       " 'imgtshirts_274.jpeg',\n",
       " 'imgtshirts_275.jpeg',\n",
       " 'imgtshirts_282.jpeg',\n",
       " 'imgtshirts_286.jpeg',\n",
       " 'imgtshirts_294.jpeg',\n",
       " 'imgtshirts_303.jpeg',\n",
       " 'imgtshirts_312.jpeg',\n",
       " 'imgtshirts_313.jpeg',\n",
       " 'imgtshirts_315.jpeg',\n",
       " 'imgtshirts_322.jpeg',\n",
       " 'imgtshirts_323.jpeg',\n",
       " 'imgtshirts_344.jpeg',\n",
       " 'imgtshirts_345.jpeg',\n",
       " 'imgtshirts_351.jpeg',\n",
       " 'imgtshirts_372.jpeg',\n",
       " 'imgtshirts_373.jpeg',\n",
       " 'imgtshirts_376.jpeg',\n",
       " 'imgtshirts_386.jpeg',\n",
       " 'imgtshirts_393.jpeg',\n",
       " 'imgtshirts_394.jpeg',\n",
       " 'imgtshirts_403.jpeg',\n",
       " 'imgtshirts_404.jpeg',\n",
       " 'imgtshirts_406.jpeg',\n",
       " 'imgtshirts_414.jpeg',\n",
       " 'imgtshirts_425.jpeg',\n",
       " 'imgtshirts_432.jpeg',\n",
       " 'imgtshirts_434.jpeg',\n",
       " 'imgtshirts_435.jpeg',\n",
       " 'imgtshirts_441.jpeg',\n",
       " 'imgtshirts_444.jpeg',\n",
       " 'imgtshirts_446.jpeg',\n",
       " 'imgtshirts_453.jpeg',\n",
       " 'imgtshirts_464.jpeg',\n",
       " 'imgtshirts_466.jpeg',\n",
       " 'imgtshirts_476.jpeg',\n",
       " 'imgtshirts_486.jpeg',\n",
       " 'imgtshirts_491.jpeg',\n",
       " 'imgtshirts_494.jpeg',\n",
       " 'imgtshirts_516.jpeg',\n",
       " 'imgtshirts_523.jpeg',\n",
       " 'imgtshirts_534.jpeg',\n",
       " 'imgtshirts_543.jpeg',\n",
       " 'imgtshirts_546.jpeg',\n",
       " 'imgtshirts_566.jpeg',\n",
       " 'imgtshirts_583.jpeg',\n",
       " 'imgtshirts_584.jpeg',\n",
       " 'imgtshirts_591.jpeg',\n",
       " 'imgtshirts_604.jpeg',\n",
       " 'imgtshirts_96.jpeg']"
      ]
     },
     "execution_count": 15,
     "metadata": {},
     "output_type": "execute_result"
    }
   ],
   "source": [
    "imagefiles = [i for i in listdir(source) if isfile(join(source,i))] \n",
    "imagefiles"
   ]
  },
  {
   "cell_type": "code",
   "execution_count": 16,
   "metadata": {},
   "outputs": [
    {
     "name": "stdout",
     "output_type": "stream",
     "text": [
      "Number of file extracted into the list from the source path= 80\n"
     ]
    }
   ],
   "source": [
    "print(\"Number of file extracted into the list from the source path=\",len(imagefiles))"
   ]
  },
  {
   "cell_type": "code",
   "execution_count": 17,
   "metadata": {},
   "outputs": [],
   "source": [
    "#converting all coloured image into grey scale image\n",
    "for image in imagefiles:\n",
    "    try:\n",
    "        img = cv2.imread(os.path.join(source,image))\n",
    "        gray = cv2.cvtColor(img,cv2.COLOR_BGR2GRAY)\n",
    "        resize=cv2.resize(gray,(130,130))\n",
    "        dest = join(destination,image)\n",
    "        cv2.imwrite(dest,resize)\n",
    "    except:\n",
    "        print (\"{} is not converted\".format(image))\n"
   ]
  },
  {
   "cell_type": "code",
   "execution_count": 18,
   "metadata": {},
   "outputs": [],
   "source": [
    "#CREATING A LIST OF FILE PATH OF OUR IMAGES FOR AUGUMENTATION\n",
    "\n",
    "images = [join(destination, x) for x in listdir(destination) if isfile(join(destination,x))]\n",
    "no_required=500\n",
    "no_generated_img=0\n",
    "while no_generated_img<no_required:\n",
    "    path=random.choice(images)\n",
    "    im2_transformed=cv2.imread(path)\n",
    "    no_of_transformation_selected = random.randint(1, len(transformation_techs))\n",
    "    \n",
    "    num_transformation_done = 0\n",
    "    transformation= None\n",
    "    while num_transformation_done<=no_of_transformation_selected-1:\n",
    "        function = random.choice(list(transformation_techs))\n",
    "        transformation=transformation_techs[function](im2_transformed)\n",
    "        num_transformation_done=num_transformation_done+1\n",
    "#saving the image generated\n",
    "        augmented_file_path = '{}/augmented_image_{}.jpg'.format(destination,no_generated_img)\n",
    "        cv2.imwrite(augmented_file_path, transformation)\n",
    "    no_generated_img +=1"
   ]
  },
  {
   "cell_type": "markdown",
   "metadata": {},
   "source": [
    "**CONVERTING THE TEST FILE INTO MONOCHROME**"
   ]
  },
  {
   "cell_type": "markdown",
   "metadata": {},
   "source": [
    "**1.TEST FILE:SAREE**"
   ]
  },
  {
   "cell_type": "code",
   "execution_count": 19,
   "metadata": {},
   "outputs": [
    {
     "name": "stdout",
     "output_type": "stream",
     "text": [
      "DIRECTORY CREATED\n"
     ]
    }
   ],
   "source": [
    "source = r'C:\\Users\\mishr\\CNN\\MODEL\\test\\saree' # Source Images Folder\n",
    "destination =r'C:\\Users\\mishr\\CNN\\AUGUMENTED\\TEST\\SAREE'  #Folder to save augmented images\n",
    "try:\n",
    "    makedirs(destination)\n",
    "    print(\"directory created\".upper())\n",
    "except:\n",
    "    print (\"A Folder With Such Name Already Exist, Using It\")"
   ]
  },
  {
   "cell_type": "code",
   "execution_count": 20,
   "metadata": {
    "scrolled": true
   },
   "outputs": [
    {
     "data": {
      "text/plain": [
       "['imgsaree_113.jpeg',\n",
       " 'imgsaree_131.jpeg',\n",
       " 'imgsaree_14.jpeg',\n",
       " 'imgsaree_22.jpeg',\n",
       " 'imgsaree_232.jpeg',\n",
       " 'imgsaree_235.jpeg',\n",
       " 'imgsaree_244.jpeg',\n",
       " 'imgsaree_255.jpeg',\n",
       " 'imgsaree_331.jpeg',\n",
       " 'imgsaree_355.jpeg',\n",
       " 'imgsaree_381.jpeg',\n",
       " 'imgsaree_384.jpeg',\n",
       " 'imgsaree_394.jpeg',\n",
       " 'imgsaree_433.jpeg',\n",
       " 'imgsaree_471.jpeg',\n",
       " 'imgsaree_505.jpeg',\n",
       " 'imgsaree_544.jpeg',\n",
       " 'imgsaree_574.jpeg',\n",
       " 'imgsaree_631.jpeg',\n",
       " 'imgsaree_72.jpeg']"
      ]
     },
     "execution_count": 20,
     "metadata": {},
     "output_type": "execute_result"
    }
   ],
   "source": [
    "imagefiles = [i for i in listdir(source) if isfile(join(source,i))] \n",
    "imagefiles"
   ]
  },
  {
   "cell_type": "code",
   "execution_count": 21,
   "metadata": {},
   "outputs": [
    {
     "name": "stdout",
     "output_type": "stream",
     "text": [
      "Number of file extracted into the list from the source path= 20\n"
     ]
    }
   ],
   "source": [
    "print(\"Number of file extracted into the list from the source path=\",len(imagefiles))"
   ]
  },
  {
   "cell_type": "code",
   "execution_count": 22,
   "metadata": {},
   "outputs": [],
   "source": [
    "#converting all coloured image into grey scale image\n",
    "for image in imagefiles:\n",
    "    try:\n",
    "        img = cv2.imread(os.path.join(source,image))\n",
    "        gray = cv2.cvtColor(img,cv2.COLOR_BGR2GRAY)\n",
    "        dest = join(destination,image)\n",
    "        cv2.imwrite(dest,gray)\n",
    "    \n",
    "    except:\n",
    "        print (\"{} is not converted\".format(image))\n"
   ]
  },
  {
   "cell_type": "markdown",
   "metadata": {},
   "source": [
    "**2.TEST FILE: SHIRT**"
   ]
  },
  {
   "cell_type": "code",
   "execution_count": 23,
   "metadata": {},
   "outputs": [
    {
     "name": "stdout",
     "output_type": "stream",
     "text": [
      "DIRECTORY CREATED\n"
     ]
    }
   ],
   "source": [
    "source = r'C:\\Users\\mishr\\CNN\\MODEL\\test\\shirt' # Source Images Folder\n",
    "destination =r'C:\\Users\\mishr\\CNN\\AUGUMENTED\\TEST\\SHIRT'  #Folder to save augmented images\n",
    "try:\n",
    "    makedirs(destination)\n",
    "    print(\"directory created\".upper())\n",
    "except:\n",
    "    print (\"A Folder With Such Name Already Exist, Using It\")"
   ]
  },
  {
   "cell_type": "code",
   "execution_count": 24,
   "metadata": {},
   "outputs": [
    {
     "data": {
      "text/plain": [
       "['imgshirt_141.jpeg',\n",
       " 'imgshirt_152.jpeg',\n",
       " 'imgshirt_202.jpeg',\n",
       " 'imgshirt_212.jpeg',\n",
       " 'imgshirt_222.jpeg',\n",
       " 'imgshirt_224.jpeg',\n",
       " 'imgshirt_233.jpeg',\n",
       " 'imgshirt_275.jpeg',\n",
       " 'imgshirt_351.jpeg',\n",
       " 'imgshirt_353.jpeg',\n",
       " 'imgshirt_374.jpeg',\n",
       " 'imgshirt_403.jpeg',\n",
       " 'imgshirt_423.jpeg',\n",
       " 'imgshirt_492.jpeg',\n",
       " 'imgshirt_501.jpeg',\n",
       " 'imgshirt_521.jpeg',\n",
       " 'imgshirt_561.jpeg',\n",
       " 'imgshirt_573.jpeg',\n",
       " 'imgshirt_602.jpeg',\n",
       " 'imgshirt_604.jpeg']"
      ]
     },
     "execution_count": 24,
     "metadata": {},
     "output_type": "execute_result"
    }
   ],
   "source": [
    "imagefiles = [i for i in listdir(source) if isfile(join(source,i))] \n",
    "imagefiles"
   ]
  },
  {
   "cell_type": "code",
   "execution_count": 25,
   "metadata": {},
   "outputs": [
    {
     "name": "stdout",
     "output_type": "stream",
     "text": [
      "Number of file extracted into the list from the source path= 20\n"
     ]
    }
   ],
   "source": [
    "print(\"Number of file extracted into the list from the source path=\",len(imagefiles))"
   ]
  },
  {
   "cell_type": "code",
   "execution_count": 26,
   "metadata": {},
   "outputs": [],
   "source": [
    "#converting all coloured image into grey scale image\n",
    "for image in imagefiles:\n",
    "    try:\n",
    "        img = cv2.imread(os.path.join(source,image))\n",
    "        gray = cv2.cvtColor(img,cv2.COLOR_BGR2GRAY)\n",
    "        dest = join(destination,image)\n",
    "        cv2.imwrite(dest,gray)\n",
    "    \n",
    "    except:\n",
    "        print (\"{} is not converted\".format(image))\n"
   ]
  },
  {
   "cell_type": "markdown",
   "metadata": {},
   "source": [
    "**3.TEST FILE:T SHRIT**"
   ]
  },
  {
   "cell_type": "code",
   "execution_count": 27,
   "metadata": {},
   "outputs": [
    {
     "name": "stdout",
     "output_type": "stream",
     "text": [
      "DIRECTORY CREATED\n"
     ]
    }
   ],
   "source": [
    "source = r'C:\\Users\\mishr\\CNN\\MODEL\\test\\tshirts' # Source Images Folder\n",
    "destination =r'C:\\Users\\mishr\\CNN\\AUGUMENTED\\TEST\\TSHIRT'  #Folder to save augmented images\n",
    "try:\n",
    "    makedirs(destination)\n",
    "    print(\"directory created\".upper())\n",
    "except:\n",
    "    print (\"A Folder With Such Name Already Exist, Using It\")"
   ]
  },
  {
   "cell_type": "code",
   "execution_count": 28,
   "metadata": {},
   "outputs": [
    {
     "data": {
      "text/plain": [
       "['imgtshirts_105.jpeg',\n",
       " 'imgtshirts_242.jpeg',\n",
       " 'imgtshirts_304.jpeg',\n",
       " 'imgtshirts_305.jpeg',\n",
       " 'imgtshirts_346.jpeg',\n",
       " 'imgtshirts_362.jpeg',\n",
       " 'imgtshirts_374.jpeg',\n",
       " 'imgtshirts_383.jpeg',\n",
       " 'imgtshirts_384.jpeg',\n",
       " 'imgtshirts_416.jpeg',\n",
       " 'imgtshirts_456.jpeg',\n",
       " 'imgtshirts_462.jpeg',\n",
       " 'imgtshirts_481.jpeg',\n",
       " 'imgtshirts_553.jpeg',\n",
       " 'imgtshirts_556.jpeg',\n",
       " 'imgtshirts_573.jpeg',\n",
       " 'imgtshirts_576.jpeg',\n",
       " 'imgtshirts_596.jpeg',\n",
       " 'imgtshirts_603.jpeg',\n",
       " 'imgtshirts_94.jpeg']"
      ]
     },
     "execution_count": 28,
     "metadata": {},
     "output_type": "execute_result"
    }
   ],
   "source": [
    "imagefiles = [i for i in listdir(source) if isfile(join(source,i))] \n",
    "imagefiles"
   ]
  },
  {
   "cell_type": "code",
   "execution_count": 29,
   "metadata": {},
   "outputs": [
    {
     "name": "stdout",
     "output_type": "stream",
     "text": [
      "Number of file extracted into the list from the source path= 20\n"
     ]
    }
   ],
   "source": [
    "print(\"Number of file extracted into the list from the source path=\",len(imagefiles))"
   ]
  },
  {
   "cell_type": "code",
   "execution_count": 30,
   "metadata": {},
   "outputs": [],
   "source": [
    "#converting all coloured image into grey scale image\n",
    "for image in imagefiles:\n",
    "    try:\n",
    "        img = cv2.imread(os.path.join(source,image))\n",
    "        gray = cv2.cvtColor(img,cv2.COLOR_BGR2GRAY)\n",
    "        dest = join(destination,image)\n",
    "        cv2.imwrite(dest,gray)\n",
    "    \n",
    "    except:\n",
    "        print (\"{} is not converted\".format(image))\n"
   ]
  }
 ],
 "metadata": {
  "kernelspec": {
   "display_name": "Python 3",
   "language": "python",
   "name": "python3"
  },
  "language_info": {
   "codemirror_mode": {
    "name": "ipython",
    "version": 3
   },
   "file_extension": ".py",
   "mimetype": "text/x-python",
   "name": "python",
   "nbconvert_exporter": "python",
   "pygments_lexer": "ipython3",
   "version": "3.7.6"
  }
 },
 "nbformat": 4,
 "nbformat_minor": 4
}
